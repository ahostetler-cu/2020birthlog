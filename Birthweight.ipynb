{
 "cells": [
  {
   "cell_type": "code",
   "execution_count": null,
   "metadata": {},
   "outputs": [],
   "source": []
  },
  {
   "cell_type": "code",
   "execution_count": 1,
   "metadata": {},
   "outputs": [],
   "source": [
    "#Here I import the needed libraries\n",
    "\n",
    "from math import exp\n",
    "import numpy as np\n",
    "import pandas as pd\n",
    "pd.options.mode.chained_assignment = None\n",
    "import matplotlib.pyplot as plt\n",
    "import seaborn as sns\n",
    "from sklearn.linear_model import LogisticRegression\n",
    "from sklearn.model_selection import train_test_split, GridSearchCV, cross_val_score, RepeatedStratifiedKFold, StratifiedKFold\n",
    "from sklearn.metrics import accuracy_score, confusion_matrix,roc_curve, roc_auc_score, precision_score, recall_score, precision_recall_curve\n",
    "from sklearn.metrics import f1_score"
   ]
  },
  {
   "cell_type": "code",
   "execution_count": 6,
   "metadata": {},
   "outputs": [],
   "source": [
    "#I had the file downloaded and extracted to save time extracing each time I ran, you can do the\n",
    "#same or impliment a different approach\n",
    "file=open(\"C:/Users/alecj/Desktop/Nat2020PublicUS.c20210506.r20210812.txt\",'r')\n",
    "lines=file.readlines()\n",
    "file.close()"
   ]
  },
  {
   "cell_type": "code",
   "execution_count": 7,
   "metadata": {},
   "outputs": [],
   "source": [
    "#Here I read in the variables by their location in the line\n",
    "#Be careful as the guide is wrong and lists one of the mother's race items as a len of 2 when it is one\n",
    "#if you do your own that may run into issues but these are the correct locations for the 2020 collection\n",
    "\n",
    "weight=[]\n",
    "fathage=[]\n",
    "mothage=[]\n",
    "mothrace=[]\n",
    "prenvist=[]\n",
    "preterm=[]\n",
    "for line in lines:\n",
    "    weight.append(line[510])\n",
    "    fathage.append(line[146:148])\n",
    "    mothage.append(line[74:76])\n",
    "    mothrace.append(line[106])\n",
    "    prenvist.append(line[237:239])\n",
    "    preterm.append(line[502])\n"
   ]
  },
  {
   "cell_type": "code",
   "execution_count": null,
   "metadata": {},
   "outputs": [],
   "source": []
  },
  {
   "cell_type": "code",
   "execution_count": null,
   "metadata": {},
   "outputs": [],
   "source": []
  },
  {
   "cell_type": "code",
   "execution_count": 8,
   "metadata": {},
   "outputs": [],
   "source": [
    "#I create the dataframe from the variables\n",
    "df=pd.DataFrame({'Weight':weight, 'Fathers Age':fathage, 'Mothers Age':mothage, 'Mothers Race':mothrace, \"Num of Visits\":prenvist, 'PreTerm':preterm })"
   ]
  },
  {
   "cell_type": "code",
   "execution_count": null,
   "metadata": {},
   "outputs": [],
   "source": []
  },
  {
   "cell_type": "code",
   "execution_count": 9,
   "metadata": {},
   "outputs": [],
   "source": [
    "#I set the types so I can replace the needed values\n",
    "#There is probably an easier way to do this but I didn't know how\n",
    "df['Weight']=df['Weight'].astype('int')\n",
    "df['Fathers Age']=df['Fathers Age'].astype('int')\n",
    "df['Mothers Age']=df['Mothers Age'].astype('int')\n",
    "df['Mothers Race']=df['Mothers Race'].astype('int')\n",
    "df['Num of Visits']=df['Num of Visits'].astype('int')\n",
    "df['PreTerm']=df['PreTerm'].astype('int')"
   ]
  },
  {
   "cell_type": "code",
   "execution_count": 10,
   "metadata": {},
   "outputs": [],
   "source": [
    "#Reassigns the weights to the needed values\n",
    "df['Weight']=df['Weight'].replace(2,1)\n",
    "df['Weight']=df['Weight'].replace(3,0)\n",
    "df['Weight']=df['Weight'].replace(4,np.NaN)\n"
   ]
  },
  {
   "cell_type": "code",
   "execution_count": 11,
   "metadata": {},
   "outputs": [],
   "source": [
    "#Same thing but for other values, including assigning more NAs\n",
    "df['PreTerm']=df['PreTerm'].replace(2,0)\n",
    "df['PreTerm']=df['PreTerm'].replace(3,np.NaN)\n",
    "df['Num of Visits']=df['Num of Visits'].replace(99,np.NaN)\n",
    "df['Fathers Age']=df['Fathers Age'].replace(99,np.NaN)\n",
    "df['Mothers Race']=df['Mothers Race'].replace(8,np.NaN)\n"
   ]
  },
  {
   "cell_type": "code",
   "execution_count": 12,
   "metadata": {},
   "outputs": [],
   "source": [
    "##note to myself\n",
    "#preterm 1 is under 37 weeks, 0 is over\n",
    "#weight 1 is underwieght"
   ]
  },
  {
   "cell_type": "code",
   "execution_count": 59,
   "metadata": {},
   "outputs": [
    {
     "data": {
      "text/plain": [
       "(3619826, 6)"
      ]
     },
     "execution_count": 59,
     "metadata": {},
     "output_type": "execute_result"
    }
   ],
   "source": [
    "np.shape(df)"
   ]
  },
  {
   "cell_type": "code",
   "execution_count": 13,
   "metadata": {},
   "outputs": [
    {
     "data": {
      "text/html": [
       "<div>\n",
       "<style scoped>\n",
       "    .dataframe tbody tr th:only-of-type {\n",
       "        vertical-align: middle;\n",
       "    }\n",
       "\n",
       "    .dataframe tbody tr th {\n",
       "        vertical-align: top;\n",
       "    }\n",
       "\n",
       "    .dataframe thead th {\n",
       "        text-align: right;\n",
       "    }\n",
       "</style>\n",
       "<table border=\"1\" class=\"dataframe\">\n",
       "  <thead>\n",
       "    <tr style=\"text-align: right;\">\n",
       "      <th></th>\n",
       "      <th>Weight</th>\n",
       "      <th>Fathers Age</th>\n",
       "      <th>Mothers Age</th>\n",
       "      <th>Mothers Race</th>\n",
       "      <th>Num of Visits</th>\n",
       "      <th>PreTerm</th>\n",
       "    </tr>\n",
       "  </thead>\n",
       "  <tbody>\n",
       "    <tr>\n",
       "      <th>0</th>\n",
       "      <td>0.0</td>\n",
       "      <td>30.0</td>\n",
       "      <td>25</td>\n",
       "      <td>1</td>\n",
       "      <td>10.0</td>\n",
       "      <td>0.0</td>\n",
       "    </tr>\n",
       "    <tr>\n",
       "      <th>1</th>\n",
       "      <td>0.0</td>\n",
       "      <td>27.0</td>\n",
       "      <td>28</td>\n",
       "      <td>1</td>\n",
       "      <td>15.0</td>\n",
       "      <td>0.0</td>\n",
       "    </tr>\n",
       "    <tr>\n",
       "      <th>2</th>\n",
       "      <td>0.0</td>\n",
       "      <td>35.0</td>\n",
       "      <td>36</td>\n",
       "      <td>1</td>\n",
       "      <td>8.0</td>\n",
       "      <td>0.0</td>\n",
       "    </tr>\n",
       "    <tr>\n",
       "      <th>3</th>\n",
       "      <td>0.0</td>\n",
       "      <td>34.0</td>\n",
       "      <td>32</td>\n",
       "      <td>1</td>\n",
       "      <td>9.0</td>\n",
       "      <td>0.0</td>\n",
       "    </tr>\n",
       "    <tr>\n",
       "      <th>5</th>\n",
       "      <td>0.0</td>\n",
       "      <td>42.0</td>\n",
       "      <td>34</td>\n",
       "      <td>4</td>\n",
       "      <td>11.0</td>\n",
       "      <td>0.0</td>\n",
       "    </tr>\n",
       "    <tr>\n",
       "      <th>...</th>\n",
       "      <td>...</td>\n",
       "      <td>...</td>\n",
       "      <td>...</td>\n",
       "      <td>...</td>\n",
       "      <td>...</td>\n",
       "      <td>...</td>\n",
       "    </tr>\n",
       "    <tr>\n",
       "      <th>3619813</th>\n",
       "      <td>1.0</td>\n",
       "      <td>51.0</td>\n",
       "      <td>33</td>\n",
       "      <td>1</td>\n",
       "      <td>0.0</td>\n",
       "      <td>1.0</td>\n",
       "    </tr>\n",
       "    <tr>\n",
       "      <th>3619815</th>\n",
       "      <td>1.0</td>\n",
       "      <td>22.0</td>\n",
       "      <td>22</td>\n",
       "      <td>6</td>\n",
       "      <td>3.0</td>\n",
       "      <td>0.0</td>\n",
       "    </tr>\n",
       "    <tr>\n",
       "      <th>3619817</th>\n",
       "      <td>0.0</td>\n",
       "      <td>38.0</td>\n",
       "      <td>26</td>\n",
       "      <td>2</td>\n",
       "      <td>13.0</td>\n",
       "      <td>0.0</td>\n",
       "    </tr>\n",
       "    <tr>\n",
       "      <th>3619818</th>\n",
       "      <td>0.0</td>\n",
       "      <td>41.0</td>\n",
       "      <td>36</td>\n",
       "      <td>1</td>\n",
       "      <td>15.0</td>\n",
       "      <td>0.0</td>\n",
       "    </tr>\n",
       "    <tr>\n",
       "      <th>3619819</th>\n",
       "      <td>0.0</td>\n",
       "      <td>30.0</td>\n",
       "      <td>36</td>\n",
       "      <td>1</td>\n",
       "      <td>14.0</td>\n",
       "      <td>0.0</td>\n",
       "    </tr>\n",
       "  </tbody>\n",
       "</table>\n",
       "<p>3096462 rows × 6 columns</p>\n",
       "</div>"
      ],
      "text/plain": [
       "         Weight  Fathers Age  Mothers Age  Mothers Race  Num of Visits  \\\n",
       "0           0.0         30.0           25             1           10.0   \n",
       "1           0.0         27.0           28             1           15.0   \n",
       "2           0.0         35.0           36             1            8.0   \n",
       "3           0.0         34.0           32             1            9.0   \n",
       "5           0.0         42.0           34             4           11.0   \n",
       "...         ...          ...          ...           ...            ...   \n",
       "3619813     1.0         51.0           33             1            0.0   \n",
       "3619815     1.0         22.0           22             6            3.0   \n",
       "3619817     0.0         38.0           26             2           13.0   \n",
       "3619818     0.0         41.0           36             1           15.0   \n",
       "3619819     0.0         30.0           36             1           14.0   \n",
       "\n",
       "         PreTerm  \n",
       "0            0.0  \n",
       "1            0.0  \n",
       "2            0.0  \n",
       "3            0.0  \n",
       "5            0.0  \n",
       "...          ...  \n",
       "3619813      1.0  \n",
       "3619815      0.0  \n",
       "3619817      0.0  \n",
       "3619818      0.0  \n",
       "3619819      0.0  \n",
       "\n",
       "[3096462 rows x 6 columns]"
      ]
     },
     "execution_count": 13,
     "metadata": {},
     "output_type": "execute_result"
    }
   ],
   "source": [
    "#creates a new dataframe without the NAs\n",
    "new=df.dropna()\n",
    "new"
   ]
  },
  {
   "cell_type": "code",
   "execution_count": 14,
   "metadata": {},
   "outputs": [],
   "source": [
    "#Reassigns types that were broken when assigning NAs, probably better way to do this\n",
    "new['Weight']=new['Weight'].astype('int')\n",
    "new['Fathers Age']=new['Fathers Age'].astype('int')\n",
    "new['Mothers Age']=new['Mothers Age'].astype('int')\n",
    "new['Mothers Race']=new['Mothers Race'].astype('category')\n",
    "new['Num of Visits']=new['Num of Visits'].astype('int')\n",
    "new['PreTerm']=new['PreTerm'].astype('category')"
   ]
  },
  {
   "cell_type": "code",
   "execution_count": null,
   "metadata": {},
   "outputs": [],
   "source": []
  },
  {
   "cell_type": "code",
   "execution_count": 61,
   "metadata": {},
   "outputs": [
    {
     "name": "stdout",
     "output_type": "stream",
     "text": [
      "The old size is: 3619826.0\n",
      "The new size is: 3096462.0\n",
      "The rows removed is: 523364.0\n",
      "Or 0.1445826401600519 Percent\n"
     ]
    }
   ],
   "source": [
    "#Calculated the sizes of the old and new DFs\n",
    "newsize=new.size/6\n",
    "oldsize=df.size/6\n",
    "change=(df.size/6)-(new.size/6)\n",
    "print('The old size is:',oldsize)\n",
    "print('The new size is:', newsize)\n",
    "print('The rows removed is:',change)\n",
    "print('Or',change/oldsize, 'Percent' )"
   ]
  },
  {
   "cell_type": "code",
   "execution_count": 16,
   "metadata": {},
   "outputs": [
    {
     "data": {
      "text/html": [
       "<div>\n",
       "<style scoped>\n",
       "    .dataframe tbody tr th:only-of-type {\n",
       "        vertical-align: middle;\n",
       "    }\n",
       "\n",
       "    .dataframe tbody tr th {\n",
       "        vertical-align: top;\n",
       "    }\n",
       "\n",
       "    .dataframe thead th {\n",
       "        text-align: right;\n",
       "    }\n",
       "</style>\n",
       "<table border=\"1\" class=\"dataframe\">\n",
       "  <thead>\n",
       "    <tr style=\"text-align: right;\">\n",
       "      <th></th>\n",
       "      <th>Weight</th>\n",
       "      <th>Fathers Age</th>\n",
       "      <th>Mothers Age</th>\n",
       "      <th>Num of Visits</th>\n",
       "    </tr>\n",
       "  </thead>\n",
       "  <tbody>\n",
       "    <tr>\n",
       "      <th>Weight</th>\n",
       "      <td>1.000000</td>\n",
       "      <td>0.006218</td>\n",
       "      <td>0.006380</td>\n",
       "      <td>-0.094376</td>\n",
       "    </tr>\n",
       "    <tr>\n",
       "      <th>Fathers Age</th>\n",
       "      <td>0.006218</td>\n",
       "      <td>1.000000</td>\n",
       "      <td>0.742635</td>\n",
       "      <td>0.034864</td>\n",
       "    </tr>\n",
       "    <tr>\n",
       "      <th>Mothers Age</th>\n",
       "      <td>0.006380</td>\n",
       "      <td>0.742635</td>\n",
       "      <td>1.000000</td>\n",
       "      <td>0.063454</td>\n",
       "    </tr>\n",
       "    <tr>\n",
       "      <th>Num of Visits</th>\n",
       "      <td>-0.094376</td>\n",
       "      <td>0.034864</td>\n",
       "      <td>0.063454</td>\n",
       "      <td>1.000000</td>\n",
       "    </tr>\n",
       "  </tbody>\n",
       "</table>\n",
       "</div>"
      ],
      "text/plain": [
       "                 Weight  Fathers Age  Mothers Age  Num of Visits\n",
       "Weight         1.000000     0.006218     0.006380      -0.094376\n",
       "Fathers Age    0.006218     1.000000     0.742635       0.034864\n",
       "Mothers Age    0.006380     0.742635     1.000000       0.063454\n",
       "Num of Visits -0.094376     0.034864     0.063454       1.000000"
      ]
     },
     "execution_count": 16,
     "metadata": {},
     "output_type": "execute_result"
    }
   ],
   "source": [
    "cord=new.corr()\n",
    "cord"
   ]
  },
  {
   "cell_type": "code",
   "execution_count": 17,
   "metadata": {},
   "outputs": [
    {
     "data": {
      "text/plain": [
       "<AxesSubplot:>"
      ]
     },
     "execution_count": 17,
     "metadata": {},
     "output_type": "execute_result"
    },
    {
     "data": {
      "image/png": "[encoded data removed]",
      "text/plain": [
       "<Figure size 432x288 with 2 Axes>"
      ]
     },
     "metadata": {
      "needs_background": "light"
     },
     "output_type": "display_data"
    }
   ],
   "source": [
    "sns.heatmap(cord,cmap='YlOrBr')"
   ]
  },
  {
   "cell_type": "code",
   "execution_count": 41,
   "metadata": {},
   "outputs": [
    {
     "data": {
      "text/plain": [
       "Text(0.5, 1.0, 'Fathers Age')"
      ]
     },
     "execution_count": 41,
     "metadata": {},
     "output_type": "execute_result"
    },
    {
     "data": {
      "image/png": "[encoded data removed]",
      "text/plain": [
       "<Figure size 432x288 with 1 Axes>"
      ]
     },
     "metadata": {
      "needs_background": "light"
     },
     "output_type": "display_data"
    }
   ],
   "source": [
    "\n",
    "plt.hist(new['Fathers Age'],bins=40)\n",
    "plt.title(\"Fathers Age\")"
   ]
  },
  {
   "cell_type": "code",
   "execution_count": 40,
   "metadata": {},
   "outputs": [
    {
     "data": {
      "text/plain": [
       "Text(0.5, 1.0, 'Mothers Age')"
      ]
     },
     "execution_count": 40,
     "metadata": {},
     "output_type": "execute_result"
    },
    {
     "data": {
      "image/png": "[encoded data removed]",
      "text/plain": [
       "<Figure size 432x288 with 1 Axes>"
      ]
     },
     "metadata": {
      "needs_background": "light"
     },
     "output_type": "display_data"
    }
   ],
   "source": [
    "plt.hist(new['Mothers Age'],bins=39,color='red')\n",
    "plt.title(\"Mothers Age\")"
   ]
  },
  {
   "cell_type": "code",
   "execution_count": null,
   "metadata": {},
   "outputs": [],
   "source": []
  },
  {
   "cell_type": "code",
   "execution_count": 42,
   "metadata": {},
   "outputs": [
    {
     "data": {
      "text/plain": [
       "Text(0.5, 1.0, 'Number of Prenatal Visits')"
      ]
     },
     "execution_count": 42,
     "metadata": {},
     "output_type": "execute_result"
    },
    {
     "data": {
      "image/png": "[encoded data removed]",
      "text/plain": [
       "<Figure size 432x288 with 1 Axes>"
      ]
     },
     "metadata": {
      "needs_background": "light"
     },
     "output_type": "display_data"
    }
   ],
   "source": [
    "plt.hist(new['Num of Visits'],bins=20,color='green')\n",
    "plt.title(\"Number of Prenatal Visits\")\n"
   ]
  },
  {
   "cell_type": "code",
   "execution_count": 58,
   "metadata": {},
   "outputs": [
    {
     "name": "stdout",
     "output_type": "stream",
     "text": [
      "From left to right: ['White', 'Black', 'AIAN', 'Asian', 'NHOPI', 'Mixed Race']\n"
     ]
    },
    {
     "data": {
      "image/png": "[encoded data removed]",
      "text/plain": [
       "<Figure size 432x288 with 1 Axes>"
      ]
     },
     "metadata": {
      "needs_background": "light"
     },
     "output_type": "display_data"
    }
   ],
   "source": [
    "labels = ['White', \"Black\", \"AIAN\", \"Asian\", \"NHOPI\",\"Mixed Race\"]\n",
    "plt.hist(new['Mothers Race'], label=labels)\n",
    "plt.title(\"Mothers Race\")\n",
    "print(\"From left to right:\",labels)"
   ]
  },
  {
   "cell_type": "code",
   "execution_count": 180,
   "metadata": {},
   "outputs": [
    {
     "data": {
      "text/plain": [
       "Fathers Age      49.960285\n",
       "Mothers Age      53.719426\n",
       "Mothers Race      2.714834\n",
       "Num of Visits     7.327360\n",
       "PreTerm           1.112084\n",
       "dtype: float64"
      ]
     },
     "execution_count": 180,
     "metadata": {},
     "output_type": "execute_result"
    }
   ],
   "source": [
    "#Ran a vif\n",
    "from statsmodels.stats.outliers_influence import variance_inflation_factor\n",
    "vifmod=new.drop(columns='Weight')\n",
    "vif=pd.Series([variance_inflation_factor(vifmod.values, i) for i in range(vifmod.shape[1])], index=vifmod.columns)\n",
    "vif\n"
   ]
  },
  {
   "cell_type": "code",
   "execution_count": 181,
   "metadata": {},
   "outputs": [
    {
     "data": {
      "image/png": "[encoded data removed]",
      "text/plain": [
       "<Figure size 432x288 with 1 Axes>"
      ]
     },
     "metadata": {
      "needs_background": "light"
     },
     "output_type": "display_data"
    }
   ],
   "source": [
    "#vif of Father and Mothers age were high, makes sense as they are almost 1:1\n",
    "bins=np.linspace(10, 60)\n",
    "plt.hist(new['Fathers Age'],bins, alpha=0.5, label='Fathers Age')\n",
    "plt.hist(new['Mothers Age'],bins, alpha=0.5, label='Mothers Age')\n",
    "plt.legend(loc='upper right')\n",
    "plt.show()"
   ]
  },
  {
   "cell_type": "code",
   "execution_count": 182,
   "metadata": {},
   "outputs": [
    {
     "data": {
      "text/plain": [
       "Mothers Age      8.795942\n",
       "Mothers Race     2.696110\n",
       "Num of Visits    7.288997\n",
       "PreTerm          1.111945\n",
       "dtype: float64"
      ]
     },
     "execution_count": 182,
     "metadata": {},
     "output_type": "execute_result"
    }
   ],
   "source": [
    "#tried again without the Fathers Age\n",
    "nodad=vifmod.drop(columns='Fathers Age')\n",
    "vif2=pd.Series([variance_inflation_factor(nodad.values, i) for i in range(nodad.shape[1])], index=nodad.columns)\n",
    "vif2"
   ]
  },
  {
   "cell_type": "code",
   "execution_count": null,
   "metadata": {},
   "outputs": [],
   "source": []
  },
  {
   "cell_type": "code",
   "execution_count": 194,
   "metadata": {},
   "outputs": [
    {
     "data": {
      "text/plain": [
       "Mothers Age     2.773352\n",
       "Mothers Race    2.685669\n",
       "PreTerm         1.102411\n",
       "dtype: float64"
      ]
     },
     "execution_count": 194,
     "metadata": {},
     "output_type": "execute_result"
    }
   ],
   "source": [
    "#Still high values so I dropped Num of Visits since I cannot get rid of the Mothers Age\n",
    "novisits=nodad.drop(columns='Num of Visits')\n",
    "vif3=pd.Series([variance_inflation_factor(novisits.values, i) for i in range(novisits.shape[1])], index=novisits.columns)\n",
    "vif3"
   ]
  },
  {
   "cell_type": "code",
   "execution_count": 195,
   "metadata": {},
   "outputs": [
    {
     "data": {
      "text/plain": [
       "Fathers Age     49.698719\n",
       "Mothers Age     49.867260\n",
       "Mothers Race     2.706367\n",
       "PreTerm          1.102433\n",
       "dtype: float64"
      ]
     },
     "execution_count": 195,
     "metadata": {},
     "output_type": "execute_result"
    }
   ],
   "source": [
    "#Tried with fathers age in it still but no num of visits\n",
    "novisits2=vifmod.drop(columns='Num of Visits')\n",
    "vif4=pd.Series([variance_inflation_factor(novisits2.values, i) for i in range(novisits2.shape[1])], index=novisits2.columns)\n",
    "vif4\n"
   ]
  },
  {
   "cell_type": "code",
   "execution_count": 184,
   "metadata": {},
   "outputs": [
    {
     "name": "stdout",
     "output_type": "stream",
     "text": [
      "Count of Under Weight births: 230957\n",
      "Count of Healthy Weight births: 2865505\n",
      "Percentage that are underweight: 0.07458738392397517\n"
     ]
    },
    {
     "data": {
      "image/png": "[encoded data removed]",
      "text/plain": [
       "<Figure size 432x288 with 1 Axes>"
      ]
     },
     "metadata": {
      "needs_background": "light"
     },
     "output_type": "display_data"
    }
   ],
   "source": [
    "#Counted how many instances of Under and Normal Weight there was\n",
    "x=0\n",
    "y=0\n",
    "for i in enumerate(new['Weight']):\n",
    "    if int(i[1]) == 1:\n",
    "        x+=1\n",
    "    elif int(i[1])==0:\n",
    "        y+=1\n",
    "data={'Under Weight':x, 'Healthy Weight':y}\n",
    "key=list(data.keys())\n",
    "val=list(data.values())\n",
    "plt.bar(key,val)\n",
    "plt.title('Frequency of Weight Classification')\n",
    "\n",
    "print('Count of Under Weight births:', x)\n",
    "print('Count of Healthy Weight births:', y)\n",
    "print('Percentage that are underweight:', x/(x+y))"
   ]
  },
  {
   "cell_type": "code",
   "execution_count": null,
   "metadata": {},
   "outputs": [],
   "source": []
  },
  {
   "cell_type": "code",
   "execution_count": null,
   "metadata": {},
   "outputs": [],
   "source": []
  },
  {
   "cell_type": "code",
   "execution_count": null,
   "metadata": {},
   "outputs": [],
   "source": []
  },
  {
   "cell_type": "code",
   "execution_count": 185,
   "metadata": {},
   "outputs": [],
   "source": [
    "#base model\n",
    "y1=new['Weight']\n",
    "X1=new.drop('Weight', axis=1).values\n",
    "X_train1, X_test1, y_train1, y_test1=train_test_split(X1,y1,train_size=.8,random_state=321)\n",
    "\n",
    "#hold=new to save code\n",
    "hold=new.drop(columns='Fathers Age')\n",
    "\n",
    "#no father age\n",
    "y2=hold['Weight']\n",
    "X2=hold.drop('Weight', axis=1).values\n",
    "X_train2, X_test2, y_train2, y_test2=train_test_split(X2,y2,train_size=.8,random_state=321)\n",
    "#no visits either\n",
    "hold=hold.drop(columns='Num of Visits')\n",
    "y3=hold['Weight']\n",
    "X3=hold.drop('Weight', axis=1).values\n",
    "X_train3, X_test3, y_train3, y_test3=train_test_split(X3,y3,train_size=.8,random_state=321)"
   ]
  },
  {
   "cell_type": "code",
   "execution_count": 186,
   "metadata": {},
   "outputs": [
    {
     "name": "stdout",
     "output_type": "stream",
     "text": [
      "Accuracy Score: 0.9341975446194289\n",
      "Confusion Matrix: \n",
      "[[550760  22231]\n",
      " [ 18520  27782]]\n",
      "Area Under Curve: 0.7806095558785321\n",
      "Recall score: 0.6000172778713663\n"
     ]
    },
    {
     "data": {
      "text/plain": [
       "Text(0.7, 0.2, 'AUC0.781')"
      ]
     },
     "execution_count": 186,
     "metadata": {},
     "output_type": "execute_result"
    },
    {
     "data": {
      "image/png": "[encoded data removed]",
      "text/plain": [
       "<Figure size 432x288 with 1 Axes>"
      ]
     },
     "metadata": {
      "needs_background": "light"
     },
     "output_type": "display_data"
    }
   ],
   "source": [
    "#first model with everything in it\n",
    "lg1 = LogisticRegression(random_state=123, class_weight=None)\n",
    "lg1.fit(X_train1,y_train1)\n",
    "y_pred1 = lg1.predict(X_test1)\n",
    "\n",
    "print(f'Accuracy Score: {accuracy_score(y_test1,y_pred1)}')\n",
    "print(f'Confusion Matrix: \\n{confusion_matrix(y_test1, y_pred1)}')\n",
    "print(f'Area Under Curve: {roc_auc_score(y_test1, y_pred1)}')\n",
    "print(f'Recall score: {recall_score(y_test1,y_pred1)}')\n",
    "\n",
    "auc=mt.roc_auc_score(y_test1,y_pred1)\n",
    "fpr, tpr, th = mt.roc_curve(y_test1,y_pred1)\n",
    "plt.plot(fpr,tpr,'k-')\n",
    "plt.plot(np.arange(0,1.1,0.1),np.arange(0,1.1,.1),'r--')\n",
    "plt.title(\"Roc Curve for Base Model\")\n",
    "plt.xlabel(\"FPR\")\n",
    "plt.ylabel(\"TPR\")\n",
    "plt.text(.7,.2,'AUC'+\"{:.3f}\".format(auc))"
   ]
  },
  {
   "cell_type": "code",
   "execution_count": null,
   "metadata": {},
   "outputs": [],
   "source": []
  },
  {
   "cell_type": "code",
   "execution_count": null,
   "metadata": {},
   "outputs": [],
   "source": []
  },
  {
   "cell_type": "code",
   "execution_count": 187,
   "metadata": {},
   "outputs": [
    {
     "name": "stdout",
     "output_type": "stream",
     "text": [
      "Accuracy Score: 0.9342023888530954\n",
      "Confusion Matrix: \n",
      "[[550720  22271]\n",
      " [ 18477  27825]]\n",
      "Area Under Curve: 0.7810389941092993\n",
      "Recall score: 0.6009459634573021\n"
     ]
    },
    {
     "data": {
      "text/plain": [
       "Text(0.7, 0.2, 'AUC0.781')"
      ]
     },
     "execution_count": 187,
     "metadata": {},
     "output_type": "execute_result"
    },
    {
     "data": {
      "image/png": "[encoded data removed]",
      "text/plain": [
       "<Figure size 432x288 with 1 Axes>"
      ]
     },
     "metadata": {
      "needs_background": "light"
     },
     "output_type": "display_data"
    }
   ],
   "source": [
    "#second model with Fathers age removed\n",
    "lg2 = LogisticRegression(random_state=123, class_weight=None)\n",
    "lg2.fit(X_train2,y_train2)\n",
    "y_pred2 = lg2.predict(X_test2)\n",
    "\n",
    "print(f'Accuracy Score: {accuracy_score(y_test2,y_pred2)}')\n",
    "print(f'Confusion Matrix: \\n{confusion_matrix(y_test2, y_pred2)}')\n",
    "print(f'Area Under Curve: {roc_auc_score(y_test2, y_pred2)}')\n",
    "print(f'Recall score: {recall_score(y_test2,y_pred2)}')\n",
    "\n",
    "auc=mt.roc_auc_score(y_test2,y_pred2)\n",
    "fpr, tpr, th = mt.roc_curve(y_test2,y_pred2)\n",
    "plt.plot(fpr,tpr,'k-')\n",
    "plt.plot(np.arange(0,1.1,0.1),np.arange(0,1.1,.1),'r--')\n",
    "plt.title(\"Roc Curve for Model without Fathers Age\")\n",
    "plt.xlabel(\"FPR\")\n",
    "plt.ylabel(\"TPR\")\n",
    "plt.text(.7,.2,'AUC'+\"{:.3f}\".format(auc))"
   ]
  },
  {
   "cell_type": "code",
   "execution_count": null,
   "metadata": {},
   "outputs": [],
   "source": []
  },
  {
   "cell_type": "code",
   "execution_count": 188,
   "metadata": {},
   "outputs": [
    {
     "name": "stdout",
     "output_type": "stream",
     "text": [
      "Accuracy Score: 0.9336872853398956\n",
      "Confusion Matrix: \n",
      "[[546757  26234]\n",
      " [ 14833  31469]]\n",
      "Area Under Curve: 0.8169311766458838\n",
      "Recall score: 0.6796466675305602\n"
     ]
    },
    {
     "data": {
      "text/plain": [
       "Text(0.7, 0.2, 'AUC0.817')"
      ]
     },
     "execution_count": 188,
     "metadata": {},
     "output_type": "execute_result"
    },
    {
     "data": {
      "image/png": "[encoded data removed]",
      "text/plain": [
       "<Figure size 432x288 with 1 Axes>"
      ]
     },
     "metadata": {
      "needs_background": "light"
     },
     "output_type": "display_data"
    }
   ],
   "source": [
    "#Third without Fathers Age or Num of visits\n",
    "lg3 = LogisticRegression(random_state=123, class_weight=None)\n",
    "lg3.fit(X_train3,y_train3)\n",
    "y_pred3 = lg3.predict(X_test3)\n",
    "\n",
    "print(f'Accuracy Score: {accuracy_score(y_test3,y_pred3)}')\n",
    "print(f'Confusion Matrix: \\n{confusion_matrix(y_test3, y_pred3)}')\n",
    "print(f'Area Under Curve: {roc_auc_score(y_test3, y_pred3)}')\n",
    "print(f'Recall score: {recall_score(y_test3,y_pred3)}')\n",
    "\n",
    "auc=mt.roc_auc_score(y_test3,y_pred3)\n",
    "fpr, tpr, th = mt.roc_curve(y_test3,y_pred3)\n",
    "plt.plot(fpr,tpr,'k-')\n",
    "plt.plot(np.arange(0,1.1,0.1),np.arange(0,1.1,.1),'r--')\n",
    "plt.title(\"Roc Curve for Model without Fathers Age or Prenatal Visits\")\n",
    "plt.xlabel(\"FPR\")\n",
    "plt.ylabel(\"TPR\")\n",
    "plt.text(.7,.2,'AUC'+\"{:.3f}\".format(auc))"
   ]
  },
  {
   "cell_type": "code",
   "execution_count": 135,
   "metadata": {},
   "outputs": [],
   "source": [
    "#base: 0:2865505, 1:230957\n",
    "#Tried different weights on the third model to see if that improved scores at all\n",
    "model = LogisticRegression()\n",
    "# define hyperparameters\n",
    "balance = [{0:100,1:1}, {0:10,1:1}, {0:1,1:1}, {0:1,1:10}, {0:1,1:100}]\n",
    "param_grid = dict(class_weight=balance)\n",
    "cv = RepeatedStratifiedKFold(n_splits=10, n_repeats=3, random_state=123)\n",
    "# define grid search\n",
    "grid = GridSearchCV(estimator=model, param_grid=param_grid, n_jobs=-1, cv=cv, scoring='roc_auc')\n",
    "grid_result = grid.fit(X_train3, y_train3)"
   ]
  },
  {
   "cell_type": "code",
   "execution_count": 136,
   "metadata": {},
   "outputs": [
    {
     "name": "stdout",
     "output_type": "stream",
     "text": [
      "Best: 0.840952 using {'class_weight': {0: 10, 1: 1}}\n"
     ]
    }
   ],
   "source": [
    "print(\"Best: %f using %s\" % (grid_result.best_score_, grid_result.best_params_))"
   ]
  },
  {
   "cell_type": "code",
   "execution_count": null,
   "metadata": {},
   "outputs": [],
   "source": []
  },
  {
   "cell_type": "code",
   "execution_count": 189,
   "metadata": {},
   "outputs": [
    {
     "name": "stdout",
     "output_type": "stream",
     "text": [
      "Accuracy Score: 0.9252340975919314\n",
      "Confusion Matrix: \n",
      "[[572991      0]\n",
      " [ 46302      0]]\n",
      "Area Under Curve: 0.5\n",
      "Recall score: 0.0\n"
     ]
    },
    {
     "data": {
      "text/plain": [
       "Text(0.7, 0.2, 'AUC0.500')"
      ]
     },
     "execution_count": 189,
     "metadata": {},
     "output_type": "execute_result"
    },
    {
     "data": {
      "image/png": "[encoded data removed]",
      "text/plain": [
       "<Figure size 432x288 with 1 Axes>"
      ]
     },
     "metadata": {
      "needs_background": "light"
     },
     "output_type": "display_data"
    }
   ],
   "source": [
    "#Tried the same values as the third regression with the best selected weight\n",
    "lg4 = LogisticRegression(random_state=123, class_weight={0: 10, 1: 1})\n",
    "lg4.fit(X_train3,y_train3)\n",
    "y_pred4 = lg4.predict(X_test3)\n",
    "\n",
    "print(f'Accuracy Score: {accuracy_score(y_test3,y_pred4)}')\n",
    "print(f'Confusion Matrix: \\n{confusion_matrix(y_test3, y_pred4)}')\n",
    "print(f'Area Under Curve: {roc_auc_score(y_test3, y_pred4)}')\n",
    "print(f'Recall score: {recall_score(y_test3,y_pred4)}')\n",
    "\n",
    "auc=mt.roc_auc_score(y_test3,y_pred4)\n",
    "fpr, tpr, th = mt.roc_curve(y_test3,y_pred4)\n",
    "plt.plot(fpr,tpr,'k-')\n",
    "plt.plot(np.arange(0,1.1,0.1),np.arange(0,1.1,.1),'r--')\n",
    "plt.title(\"Roc Curve for Model without Fathers Age or Prenatal Visits\")\n",
    "plt.xlabel(\"FPR\")\n",
    "plt.ylabel(\"TPR\")\n",
    "plt.text(.7,.2,'AUC'+\"{:.3f}\".format(auc))"
   ]
  },
  {
   "cell_type": "code",
   "execution_count": 190,
   "metadata": {},
   "outputs": [
    {
     "data": {
      "text/html": [
       "<div>\n",
       "<style scoped>\n",
       "    .dataframe tbody tr th:only-of-type {\n",
       "        vertical-align: middle;\n",
       "    }\n",
       "\n",
       "    .dataframe tbody tr th {\n",
       "        vertical-align: top;\n",
       "    }\n",
       "\n",
       "    .dataframe thead th {\n",
       "        text-align: right;\n",
       "    }\n",
       "</style>\n",
       "<table border=\"1\" class=\"dataframe\">\n",
       "  <thead>\n",
       "    <tr style=\"text-align: right;\">\n",
       "      <th></th>\n",
       "      <th>coef</th>\n",
       "    </tr>\n",
       "  </thead>\n",
       "  <tbody>\n",
       "    <tr>\n",
       "      <th>PreTerm</th>\n",
       "      <td>45.616046</td>\n",
       "    </tr>\n",
       "    <tr>\n",
       "      <th>Mothers Race</th>\n",
       "      <td>1.128580</td>\n",
       "    </tr>\n",
       "    <tr>\n",
       "      <th>Mothers Age</th>\n",
       "      <td>0.991431</td>\n",
       "    </tr>\n",
       "  </tbody>\n",
       "</table>\n",
       "</div>"
      ],
      "text/plain": [
       "                   coef\n",
       "PreTerm       45.616046\n",
       "Mothers Race   1.128580\n",
       "Mothers Age    0.991431"
      ]
     },
     "execution_count": 190,
     "metadata": {},
     "output_type": "execute_result"
    }
   ],
   "source": [
    "odds=np.exp(lg3.coef_[0])\n",
    "pd.DataFrame(odds,novisits.columns,columns=['coef'])\\\n",
    "            .sort_values(by='coef', ascending=False)\n"
   ]
  },
  {
   "cell_type": "code",
   "execution_count": 5,
   "metadata": {},
   "outputs": [
    {
     "name": "stdout",
     "output_type": "stream",
     "text": [
      "['202001', '11234', '11', '1', '25094', '1', '101101', '0', '011', 'X1', '13', '1', '300501101', '00113', '1', '000000', '1', '1', '88888', '88888', '88888', '0412', '10', '061', 'N10000000000001111N1', '62126.53', '1451', '180', '13541', 'NNNNNN111111NXX111N00', '111', 'NNNNN111111', 'NN', '11', 'YNNYYY1111110', '14Y111321', 'NNNNN', '11111', '1', '2N5411', '0831885', '1', '9', 'M', '03', '2019', '40082', '400823570', '083', 'NNNNNN', '111111', '1', 'NNNNNN111111NNNNNN1111111', 'NYY1']\n"
     ]
    },
    {
     "data": {
      "text/plain": [
       "54"
      ]
     },
     "execution_count": 5,
     "metadata": {},
     "output_type": "execute_result"
    }
   ],
   "source": [
    "##Do not run, relic of orignal attempt\n",
    "\n",
    "\n",
    "\n",
    "print(text[0])\n",
    "#1 birhtyear/month\n",
    "#2 birthtime/day of week\n",
    "#3 birthplace,reporting\n",
    "#4 facility\n",
    "#5 age, need the first 2\n",
    "#6 Mother’s Nativity \n",
    "#7Residence Status/Mother’s Race Recode 31/Mother’s Race Recode 6/Mother’s Race Recode 15(need race record 6, the 2 before the last 2)\n",
    "#8 Hispanic\n",
    "#9 Hispanic\n",
    "#10 father known/married\n",
    "#11 mothers education\n",
    "#12 flag for education\n",
    "#13 fathers age used\n",
    "#14 fathers age, need first 2\n",
    "#15 father hispanic\n",
    "#16 education of father\n",
    "#17 priorchildre,living,dead,aborted\n",
    "#18 live births\n",
    "#19 total births\n",
    "#20 since last birth\n",
    "#21 since last pregnancy\n",
    "#22 month prenatal care began\n",
    "#23 number of prenatal visits\n",
    "#24 number of prenatal visits\n",
    "#25 Wic\n",
    "#26 height\n",
    "#27 prepreg wieght\n",
    "#28 del weight\n",
    "#29 weight gain\n",
    "#30 issues\n",
    "#31 cesarean\n",
    "#32 stds\n",
    "#33 Cephalic\n",
    "#34 succesful Cephalic\n",
    "#35 treatments used\n",
    "#36 delivery details\n",
    "#37 Maternal Morbidity\n",
    "#38 More health\n",
    "#39 No Maternal Morbidity Reported\n",
    "#40 attendent\n",
    "#41 agpar score\n",
    "#42 plurality\n",
    "#43 plurality\n",
    "#44 more recode\n",
    "#45 sex of infant, imputed\n",
    "#46 last menses month\n",
    "#47 last menses year\n",
    "#48 more stuff last 4 is weigh\n",
    "#49 weight records will use this\n",
    "#50 Flags\n",
    "#51 Newborn sick\n",
    "#52 sick flags\n",
    "#53 Anomalies\n",
    "#54 misc\n",
    "len(text[0])"
   ]
  },
  {
   "cell_type": "code",
   "execution_count": null,
   "metadata": {},
   "outputs": [],
   "source": []
  },
  {
   "cell_type": "code",
   "execution_count": null,
   "metadata": {},
   "outputs": [],
   "source": []
  },
  {
   "cell_type": "code",
   "execution_count": 23,
   "metadata": {},
   "outputs": [],
   "source": []
  },
  {
   "cell_type": "code",
   "execution_count": 25,
   "metadata": {},
   "outputs": [],
   "source": []
  },
  {
   "cell_type": "code",
   "execution_count": null,
   "metadata": {},
   "outputs": [],
   "source": []
  }
 ],
 "metadata": {
  "kernelspec": {
   "display_name": "Python 3",
   "language": "python",
   "name": "python3"
  },
  "language_info": {
   "codemirror_mode": {
    "name": "ipython",
    "version": 3
   },
   "file_extension": ".py",
   "mimetype": "text/x-python",
   "name": "python",
   "nbconvert_exporter": "python",
   "pygments_lexer": "ipython3",
   "version": "3.8.5"
  }
 },
 "nbformat": 4,
 "nbformat_minor": 4
}
